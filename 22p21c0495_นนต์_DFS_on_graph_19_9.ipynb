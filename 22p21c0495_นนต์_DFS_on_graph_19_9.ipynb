{
  "nbformat": 4,
  "nbformat_minor": 0,
  "metadata": {
    "colab": {
      "name": "22p21c0495-นนต์_DFS_on_graph_19/9.ipynb",
      "provenance": [],
      "collapsed_sections": [
        "-d547AspkbW2",
        "6krqLIu2nUqT",
        "vZ3mQvDum6G4",
        "XbfhqvLuymNm"
      ],
      "toc_visible": true,
      "authorship_tag": "ABX9TyNRN+Zsn1QI1Wr1ExIYgonO",
      "include_colab_link": true
    },
    "kernelspec": {
      "name": "python3",
      "display_name": "Python 3"
    }
  },
  "cells": [
    {
      "cell_type": "markdown",
      "metadata": {
        "id": "view-in-github",
        "colab_type": "text"
      },
      "source": [
        "<a href=\"https://colab.research.google.com/github/NonKhuna/SuperAI_Engineer/blob/master/22p21c0495_%E0%B8%99%E0%B8%99%E0%B8%95%E0%B9%8C_DFS_on_graph_19_9.ipynb\" target=\"_parent\"><img src=\"https://colab.research.google.com/assets/colab-badge.svg\" alt=\"Open In Colab\"/></a>"
      ]
    },
    {
      "cell_type": "markdown",
      "metadata": {
        "id": "-d547AspkbW2"
      },
      "source": [
        "# Input Data\n",
        "\n",
        "---\n",
        "\n",
        "\n",
        "รับค่าจำนวนเต็ม n แทนจำนวน node และจำนวนเต็ม m แทน edge เป็น undirect <br>\n",
        "m บรรทัด : คู่ node ที่เชื่อมกัน <br><br> หมายเหตุ : สามารถรันได้เลย มี test case ตัวอย่าง"
      ]
    },
    {
      "cell_type": "code",
      "metadata": {
        "id": "uaawEexSmtxW"
      },
      "source": [
        "# default data\n",
        "n = 11\n",
        "m = 10\n",
        "edges = [[0,1],[0,2],[0,6],[6,7],[1,3],[1,4],[0,5],[5,8],[5,9],[9,10]]\n"
      ],
      "execution_count": null,
      "outputs": []
    },
    {
      "cell_type": "code",
      "metadata": {
        "id": "VYtgXfrmkaVm",
        "cellView": "code"
      },
      "source": [
        "###Options\n",
        "#n = int(input(\"n = \"))\n",
        "#m = int(input(\"m = \"))\n",
        "#edges = []\n",
        "#for i in range(m) :\n",
        "#    x = [int(e) for e in input(\"\").split()]\n",
        "#    edges.append(x)"
      ],
      "execution_count": null,
      "outputs": []
    },
    {
      "cell_type": "markdown",
      "metadata": {
        "id": "6krqLIu2nUqT"
      },
      "source": [
        "# Create Graph\n",
        "\n",
        "---\n",
        "\n"
      ]
    },
    {
      "cell_type": "code",
      "metadata": {
        "id": "5xYW1bxUZTvn"
      },
      "source": [
        "import networkx as nx\n",
        "import matplotlib.pyplot as plt\n",
        "import numpy as np\n",
        "from matplotlib.animation import FuncAnimation"
      ],
      "execution_count": null,
      "outputs": []
    },
    {
      "cell_type": "code",
      "metadata": {
        "id": "Da1vAogqZ2G6"
      },
      "source": [
        "G = nx.Graph()\n",
        "\n",
        "#add Nodes\n",
        "for i in range(n) :\n",
        "  G.add_node(i,color = \"red\")\n",
        "\n",
        "#creat edge :\n",
        "for x,y in edges :\n",
        "  G.add_edge(x,y)\n",
        "\n",
        "#fix position\n",
        "pos = nx.spring_layout(G)"
      ],
      "execution_count": null,
      "outputs": []
    },
    {
      "cell_type": "code",
      "metadata": {
        "id": "jXs1zv_urkmg",
        "colab": {
          "base_uri": "https://localhost:8080/",
          "height": 319
        },
        "outputId": "b75fbd5c-f32a-4557-b055-19f6fdf7d2ac"
      },
      "source": [
        "\n",
        "options = {\n",
        "    \"node_color\": \"#A0CBE2\",\n",
        "    \"edge_color\": 'black',\n",
        "    \"width\": 4,\n",
        "    \"edge_cmap\": plt.cm.Blues,\n",
        "    \"with_labels\": True,\n",
        "    \"font_weight\": 'bold',\n",
        "    \"pos\" : pos\n",
        "}\n",
        "nx.draw(G, **options)\n",
        "\n"
      ],
      "execution_count": null,
      "outputs": [
        {
          "output_type": "display_data",
          "data": {
            "image/png": "[encoded data removed]",
            "text/plain": [
              "<Figure size 432x288 with 1 Axes>"
            ]
          },
          "metadata": {
            "tags": []
          }
        }
      ]
    },
    {
      "cell_type": "markdown",
      "metadata": {
        "id": "vZ3mQvDum6G4"
      },
      "source": [
        "# DFS Algo\n",
        "\n",
        "\n",
        "---\n",
        "\n",
        "\n",
        "\n"
      ]
    },
    {
      "cell_type": "code",
      "metadata": {
        "id": "zJfDvG-Zvskl"
      },
      "source": [
        "\n",
        "def depth_first_search(now,v,G,order) :\n",
        "    v[now] = 1\n",
        "    order.append(now)\n",
        "    for u in G[now] :\n",
        "      if v[u]==0 :\n",
        "        depth_first_search(u,v,G,order)\n",
        "    v[now] = 0"
      ],
      "execution_count": null,
      "outputs": []
    },
    {
      "cell_type": "code",
      "metadata": {
        "id": "maiA3vIQw3rS",
        "colab": {
          "base_uri": "https://localhost:8080/",
          "height": 34
        },
        "outputId": "68c2adc6-1ac7-43e1-aac0-7be515df4e59"
      },
      "source": [
        "visit = np.zeros(n)\n",
        "orders = []\n",
        "\n",
        "#start from node 0\n",
        "depth_first_search(0,visit,G,orders)\n",
        "print(orders)"
      ],
      "execution_count": null,
      "outputs": [
        {
          "output_type": "stream",
          "text": [
            "[0, 1, 3, 4, 2, 6, 7, 5, 8, 9, 10]\n"
          ],
          "name": "stdout"
        }
      ]
    },
    {
      "cell_type": "markdown",
      "metadata": {
        "id": "XbfhqvLuymNm"
      },
      "source": [
        "# Generate Animation\n",
        "\n",
        "---\n",
        "หลัง generate gif จะปรากฏใน folder ฝั่งซ้าย <br>\n",
        "ไฟล์ชื่อ **animation.gif**\n"
      ]
    },
    {
      "cell_type": "code",
      "metadata": {
        "id": "PxRm-LRF1Z6s"
      },
      "source": [
        "def paint_color(v) :\n",
        "    colors = []\n",
        "    for i in v :\n",
        "      if i == 1 :\n",
        "        colors.append('gray')\n",
        "      else :\n",
        "        colors.append('#A0CBE2')\n",
        "\n",
        "    options = {\n",
        "        \"node_color\": colors,\n",
        "        \"edge_color\": 'black',\n",
        "        \"width\": 4,\n",
        "        \"edge_cmap\": plt.cm.Blues,\n",
        "        \"with_labels\": True,\n",
        "        \"font_weight\": 'bold',\n",
        "        \"pos\" : pos\n",
        "    }\n",
        "    return options\n",
        "  \n",
        "def DrawImage(order) :\n",
        "    visit = np.zeros(n)\n",
        "    for i in range(n) :\n",
        "      if i <= order :\n",
        "         visit[orders[i]]=1 \n",
        "    ax.clear()\n",
        "    nx.draw(G, **paint_color(visit))"
      ],
      "execution_count": null,
      "outputs": []
    },
    {
      "cell_type": "code",
      "metadata": {
        "id": "8HkSgZLByxQF",
        "colab": {
          "base_uri": "https://localhost:8080/",
          "height": 248
        },
        "outputId": "eaa8b5ca-ae3a-4909-8601-bea930732c1f"
      },
      "source": [
        "# Build plot\n",
        "fig, ax = plt.subplots(figsize=(6,4))\n",
        "visit = np.zeros(n)\n",
        "ani =FuncAnimation(fig, DrawImage , frames=len(orders), interval=10000, repeat=True)\n",
        "ani.save('animation.gif', writer='pillow', fps=60)\n",
        "#Image(url='animation.gif')\n",
        "plt.show()"
      ],
      "execution_count": null,
      "outputs": [
        {
          "output_type": "display_data",
          "data": {
            "image/png": "[encoded data removed]",
            "text/plain": [
              "<Figure size 432x288 with 1 Axes>"
            ]
          },
          "metadata": {
            "tags": []
          }
        }
      ]
    }
  ]
}